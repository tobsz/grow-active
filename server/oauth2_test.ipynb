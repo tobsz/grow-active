{
 "cells": [
  {
   "attachments": {},
   "cell_type": "markdown",
   "metadata": {},
   "source": [
    "# Test handling of OAuth 2.0 tokens with Fitbit Web API"
   ]
  },
  {
   "attachments": {},
   "cell_type": "markdown",
   "metadata": {},
   "source": [
    "## Import existing tokens from JSON file"
   ]
  },
  {
   "cell_type": "code",
   "execution_count": 7,
   "metadata": {},
   "outputs": [],
   "source": [
    "import json\n",
    "import base64\n",
    "\n",
    "with open('tokens/tokens.json') as f:\n",
    "    token_dict = json.load(f)\n",
    "\n",
    "client_id: str = token_dict['client_id']\n",
    "client_secret: str = token_dict['client_secret']\n",
    "access_token: str = token_dict['access_token']\n",
    "refresh_token: str = token_dict['refresh_token']\n",
    "# basic_token is necessary for the authorization for token refresh request\n",
    "basic_token: str = base64.b64encode(f\"{client_id}:{client_secret}\".encode()).decode()\n",
    "# print(basic_token)"
   ]
  },
  {
   "attachments": {},
   "cell_type": "markdown",
   "metadata": {},
   "source": [
    "## Use access token to request data from `heartrate` endpoint"
   ]
  },
  {
   "cell_type": "code",
   "execution_count": 10,
   "metadata": {},
   "outputs": [
    {
     "name": "stdout",
     "output_type": "stream",
     "text": [
      "200\n",
      "{'activities-heart': [{'dateTime': '2023-01-29', 'value': {'customHeartRateZones': [{'caloriesOut': 11.7213, 'max': 90, 'min': 30, 'minutes': 6, 'name': 'Below'}, {'caloriesOut': 1.4487, 'max': 200, 'min': 90, 'minutes': 1, 'name': 'Custom Zone'}, {'caloriesOut': 0, 'max': 220, 'min': 200, 'minutes': 0, 'name': 'Above'}], 'heartRateZones': [{'caloriesOut': 775.8447, 'max': 112, 'min': 30, 'minutes': 1440, 'name': 'Out of Range'}, {'caloriesOut': 0, 'max': 137, 'min': 112, 'minutes': 0, 'name': 'Fat Burn'}, {'caloriesOut': 0, 'max': 168, 'min': 137, 'minutes': 0, 'name': 'Cardio'}, {'caloriesOut': 0, 'max': 220, 'min': 168, 'minutes': 0, 'name': 'Peak'}]}}], 'activities-heart-intraday': {'dataset': [{'time': '00:00:00', 'value': 73}, {'time': '00:01:00', 'value': 71}, {'time': '00:02:00', 'value': 84}, {'time': '00:03:00', 'value': 92}, {'time': '09:44:00', 'value': 76}, {'time': '09:45:00', 'value': 74}, {'time': '09:46:00', 'value': 74}], 'datasetInterval': 1, 'datasetType': 'minute'}}\n",
      "1\n"
     ]
    }
   ],
   "source": [
    "import requests\n",
    "\n",
    "date: str = \"today\"\n",
    "headers = {\n",
    "    \"Authorization\": f\"Bearer {access_token}\",\n",
    "}\n",
    "response = requests.get(f\"https://api.fitbit.com/1/user/-/activities/heart/date/{date}/1d.json\", headers=headers)\n",
    "print(response.status_code)\n",
    "hr_dict = json.loads(response.content)\n",
    "print(hr_dict)\n",
    "activity_minutes = hr_dict \\\n",
    "    .get('activities-heart')[0] \\\n",
    "    .get('value') \\\n",
    "    .get('customHeartRateZones')[1] \\\n",
    "    .get('minutes')\n",
    "\n",
    "print(activity_minutes)"
   ]
  },
  {
   "attachments": {},
   "cell_type": "markdown",
   "metadata": {},
   "source": [
    "## Refresh token pair `(access_token, refresh_token)` using current `refresh_token`"
   ]
  },
  {
   "cell_type": "code",
   "execution_count": 3,
   "metadata": {},
   "outputs": [],
   "source": [
    "header = {\n",
    "    \"Authorization\": f\"Basic {basic_token}\",\n",
    "    \"Content-Type\": \"application/x-www-form-urlencoded\",\n",
    "}\n",
    "\n",
    "data = {\n",
    "    \"grant_type\": \"refresh_token\",\n",
    "    \"client_id\": client_id,\n",
    "    \"refresh_token\": refresh_token,\n",
    "}\n",
    "\n",
    "response_dict = json.loads(requests.post(\"https://api.fitbit.com/oauth2/token\", headers=header, data=data).content)\n",
    "access_token = response_dict['access_token']\n",
    "refresh_token = response_dict['refresh_token']\n",
    "# print(refresh_token)\n",
    "\n",
    "token_dict.update({'refresh_token': refresh_token, 'access_token': access_token})\n",
    "\n",
    "with open(\"tokens/tokens.json\", \"w\") as f:\n",
    "    json.dump(token_dict, f, ensure_ascii=False, indent=4)"
   ]
  }
 ],
 "metadata": {
  "kernelspec": {
   "display_name": ".venv",
   "language": "python",
   "name": "python3"
  },
  "language_info": {
   "codemirror_mode": {
    "name": "ipython",
    "version": 3
   },
   "file_extension": ".py",
   "mimetype": "text/x-python",
   "name": "python",
   "nbconvert_exporter": "python",
   "pygments_lexer": "ipython3",
   "version": "3.10.9"
  },
  "orig_nbformat": 4,
  "vscode": {
   "interpreter": {
    "hash": "0a2acebdc98ac2b214117705447abb84830ca599bdafcc490db9103d1fa03ebc"
   }
  }
 },
 "nbformat": 4,
 "nbformat_minor": 2
}
