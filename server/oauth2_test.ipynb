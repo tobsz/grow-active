{
 "cells": [
  {
   "attachments": {},
   "cell_type": "markdown",
   "metadata": {},
   "source": [
    "# Test handling of OAuth 2.0 tokens with Fitbit Web API"
   ]
  },
  {
   "attachments": {},
   "cell_type": "markdown",
   "metadata": {},
   "source": [
    "## Import existing tokens from JSON file"
   ]
  },
  {
   "cell_type": "code",
   "execution_count": 27,
   "metadata": {},
   "outputs": [
    {
     "name": "stdout",
     "output_type": "stream",
     "text": [
      "MjM5N1c4OjdhYjU0ZDJkZmVjNWMyZTYxYjczM2FhYzJlOThjODA5\n"
     ]
    }
   ],
   "source": [
    "import json\n",
    "import base64\n",
    "\n",
    "with open('tokens/tokens.json') as f:\n",
    "    token_dict = json.load(f)\n",
    "\n",
    "client_id: str = token_dict['client_id']\n",
    "client_secret: str = token_dict['client_secret']\n",
    "access_token: str = token_dict['access_token']\n",
    "refresh_token: str = token_dict['refresh_token']\n",
    "basic_token: str = base64.b64encode(f\"{client_id}:{client_secret}\".encode()).decode()\n",
    "print(basic_token)"
   ]
  },
  {
   "attachments": {},
   "cell_type": "markdown",
   "metadata": {},
   "source": [
    "## Use access token to request data from `heartrate` endpoint"
   ]
  },
  {
   "cell_type": "code",
   "execution_count": 28,
   "metadata": {},
   "outputs": [
    {
     "name": "stdout",
     "output_type": "stream",
     "text": [
      "{'activities-heart': [{'dateTime': '2023-01-28', 'value': {'customHeartRateZones': [{'max': 90, 'min': 30, 'name': 'Below'}, {'max': 200, 'min': 90, 'name': 'Custom Zone'}, {'max': 220, 'min': 200, 'name': 'Above'}], 'heartRateZones': [{'caloriesOut': 1519.9497, 'max': 113, 'min': 30, 'minutes': 1440, 'name': 'Out of Range'}, {'caloriesOut': 0, 'max': 137, 'min': 113, 'minutes': 0, 'name': 'Fat Burn'}, {'caloriesOut': 0, 'max': 168, 'min': 137, 'minutes': 0, 'name': 'Cardio'}, {'caloriesOut': 0, 'max': 220, 'min': 168, 'minutes': 0, 'name': 'Peak'}]}}], 'activities-heart-intraday': {'dataset': [], 'datasetInterval': 1, 'datasetType': 'minute'}}\n"
     ]
    }
   ],
   "source": [
    "import requests\n",
    "\n",
    "date = \"today\"\n",
    "headers = {\n",
    "    \"Authorization\": f\"Bearer {access_token}\",\n",
    "}\n",
    "hr_dict = json.loads(requests.get(f\"https://api.fitbit.com/1/user/-/activities/heart/date/{date}/1d.json\", headers=headers).content)\n",
    "print(hr_dict)"
   ]
  },
  {
   "attachments": {},
   "cell_type": "markdown",
   "metadata": {},
   "source": [
    "## Refresh token pair `(Access token, Refresh token)` using `Refresh token`"
   ]
  },
  {
   "cell_type": "code",
   "execution_count": 29,
   "metadata": {},
   "outputs": [
    {
     "name": "stdout",
     "output_type": "stream",
     "text": [
      "9529f26442daafbd9810956d82bc93e007cc58a67032dc9a4192e57914e41c92\n"
     ]
    }
   ],
   "source": [
    "header = {\n",
    "    \"Authorization\": f\"Basic {basic_token}\",\n",
    "    \"Content-Type\": \"application/x-www-form-urlencoded\",\n",
    "}\n",
    "\n",
    "data = {\n",
    "    \"grant_type\": \"refresh_token\",\n",
    "    \"client_id\": client_id,\n",
    "    \"refresh_token\": refresh_token,\n",
    "}\n",
    "\n",
    "response_dict = json.loads(requests.post(\"https://api.fitbit.com/oauth2/token\", headers=header, data=data).content)\n",
    "new_access_token = response_dict['access_token']\n",
    "new_refresh_token = response_dict['refresh_token']\n",
    "print(new_refresh_token)\n",
    "\n",
    "token_dict.update({'refresh_token': new_refresh_token, 'access_token': new_access_token})\n",
    "\n",
    "with open(\"tokens/tokens.json\", \"w\") as f:\n",
    "    json.dump(token_dict, f, ensure_ascii=False, indent=4)\n"
   ]
  }
 ],
 "metadata": {
  "kernelspec": {
   "display_name": ".venv",
   "language": "python",
   "name": "python3"
  },
  "language_info": {
   "codemirror_mode": {
    "name": "ipython",
    "version": 3
   },
   "file_extension": ".py",
   "mimetype": "text/x-python",
   "name": "python",
   "nbconvert_exporter": "python",
   "pygments_lexer": "ipython3",
   "version": "3.10.9"
  },
  "orig_nbformat": 4,
  "vscode": {
   "interpreter": {
    "hash": "0a2acebdc98ac2b214117705447abb84830ca599bdafcc490db9103d1fa03ebc"
   }
  }
 },
 "nbformat": 4,
 "nbformat_minor": 2
}
